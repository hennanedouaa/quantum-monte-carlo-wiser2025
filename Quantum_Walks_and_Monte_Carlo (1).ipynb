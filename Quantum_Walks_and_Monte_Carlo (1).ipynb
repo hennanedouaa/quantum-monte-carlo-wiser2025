{
  "cells": [
    {
      "cell_type": "markdown",
      "source": [
        "**Environment Setup**"
      ],
      "metadata": {
        "id": "rvzLiF5jEa9_"
      }
    },
    {
      "cell_type": "code",
      "execution_count": 12,
      "metadata": {
        "colab": {
          "base_uri": "https://localhost:8080/",
          "height": 0
        },
        "id": "HVnzAsf6Ppoy",
        "outputId": "358cfe7c-4b1f-4ae0-fc16-c9d793bdc143"
      },
      "outputs": [
        {
          "output_type": "stream",
          "name": "stdout",
          "text": [
            "Found existing installation: qiskit 0.43.1\n",
            "Uninstalling qiskit-0.43.1:\n",
            "  Successfully uninstalled qiskit-0.43.1\n",
            "Collecting qiskit==0.43.1\n",
            "  Using cached qiskit-0.43.1-py3-none-any.whl\n",
            "Requirement already satisfied: qiskit-ibm-provider==0.6.1 in /usr/local/lib/python3.11/dist-packages (0.6.1)\n",
            "Requirement already satisfied: qiskit-terra==0.24.1 in /usr/local/lib/python3.11/dist-packages (from qiskit==0.43.1) (0.24.1)\n",
            "Requirement already satisfied: qiskit-aer==0.12.0 in /usr/local/lib/python3.11/dist-packages (from qiskit==0.43.1) (0.12.0)\n",
            "Requirement already satisfied: qiskit-ibmq-provider==0.20.2 in /usr/local/lib/python3.11/dist-packages (from qiskit==0.43.1) (0.20.2)\n",
            "Requirement already satisfied: requests>=2.19 in /usr/local/lib/python3.11/dist-packages (from qiskit-ibm-provider==0.6.1) (2.32.3)\n",
            "Requirement already satisfied: requests-ntlm>=1.1.0 in /usr/local/lib/python3.11/dist-packages (from qiskit-ibm-provider==0.6.1) (1.1.0)\n",
            "Requirement already satisfied: numpy>=1.13 in /usr/local/lib/python3.11/dist-packages (from qiskit-ibm-provider==0.6.1) (1.23.5)\n",
            "Requirement already satisfied: urllib3>=1.21.1 in /usr/local/lib/python3.11/dist-packages (from qiskit-ibm-provider==0.6.1) (2.5.0)\n",
            "Requirement already satisfied: python-dateutil>=2.8.0 in /usr/local/lib/python3.11/dist-packages (from qiskit-ibm-provider==0.6.1) (2.9.0.post0)\n",
            "Requirement already satisfied: websocket-client>=1.5.1 in /usr/local/lib/python3.11/dist-packages (from qiskit-ibm-provider==0.6.1) (1.8.0)\n",
            "Requirement already satisfied: websockets>=10.0 in /usr/local/lib/python3.11/dist-packages (from qiskit-ibm-provider==0.6.1) (15.0.1)\n",
            "Requirement already satisfied: typing-extensions>=4.3 in /usr/local/lib/python3.11/dist-packages (from qiskit-ibm-provider==0.6.1) (4.14.1)\n",
            "Requirement already satisfied: scipy>=1.0 in /usr/local/lib/python3.11/dist-packages (from qiskit-aer==0.12.0->qiskit==0.43.1) (1.15.3)\n",
            "Requirement already satisfied: rustworkx>=0.12.0 in /usr/local/lib/python3.11/dist-packages (from qiskit-terra==0.24.1->qiskit==0.43.1) (0.16.0)\n",
            "Requirement already satisfied: ply>=3.10 in /usr/local/lib/python3.11/dist-packages (from qiskit-terra==0.24.1->qiskit==0.43.1) (3.11)\n",
            "Requirement already satisfied: psutil>=5 in /usr/local/lib/python3.11/dist-packages (from qiskit-terra==0.24.1->qiskit==0.43.1) (5.9.5)\n",
            "Requirement already satisfied: sympy>=1.3 in /usr/local/lib/python3.11/dist-packages (from qiskit-terra==0.24.1->qiskit==0.43.1) (1.13.1)\n",
            "Requirement already satisfied: dill>=0.3 in /usr/local/lib/python3.11/dist-packages (from qiskit-terra==0.24.1->qiskit==0.43.1) (0.3.8)\n",
            "Requirement already satisfied: stevedore>=3.0.0 in /usr/local/lib/python3.11/dist-packages (from qiskit-terra==0.24.1->qiskit==0.43.1) (5.4.1)\n",
            "Requirement already satisfied: symengine<0.10,>=0.9 in /usr/local/lib/python3.11/dist-packages (from qiskit-terra==0.24.1->qiskit==0.43.1) (0.9.2)\n",
            "Requirement already satisfied: six>=1.5 in /usr/local/lib/python3.11/dist-packages (from python-dateutil>=2.8.0->qiskit-ibm-provider==0.6.1) (1.17.0)\n",
            "Requirement already satisfied: charset-normalizer<4,>=2 in /usr/local/lib/python3.11/dist-packages (from requests>=2.19->qiskit-ibm-provider==0.6.1) (3.4.2)\n",
            "Requirement already satisfied: idna<4,>=2.5 in /usr/local/lib/python3.11/dist-packages (from requests>=2.19->qiskit-ibm-provider==0.6.1) (3.10)\n",
            "Requirement already satisfied: certifi>=2017.4.17 in /usr/local/lib/python3.11/dist-packages (from requests>=2.19->qiskit-ibm-provider==0.6.1) (2025.7.14)\n",
            "Requirement already satisfied: ntlm-auth>=1.0.2 in /usr/local/lib/python3.11/dist-packages (from requests-ntlm>=1.1.0->qiskit-ibm-provider==0.6.1) (1.5.0)\n",
            "Requirement already satisfied: cryptography>=1.3 in /usr/local/lib/python3.11/dist-packages (from requests-ntlm>=1.1.0->qiskit-ibm-provider==0.6.1) (43.0.3)\n",
            "Requirement already satisfied: cffi>=1.12 in /usr/local/lib/python3.11/dist-packages (from cryptography>=1.3->requests-ntlm>=1.1.0->qiskit-ibm-provider==0.6.1) (1.17.1)\n",
            "Requirement already satisfied: pbr>=2.0.0 in /usr/local/lib/python3.11/dist-packages (from stevedore>=3.0.0->qiskit-terra==0.24.1->qiskit==0.43.1) (6.1.1)\n",
            "Requirement already satisfied: mpmath<1.4,>=1.1.0 in /usr/local/lib/python3.11/dist-packages (from sympy>=1.3->qiskit-terra==0.24.1->qiskit==0.43.1) (1.3.0)\n",
            "Requirement already satisfied: pycparser in /usr/local/lib/python3.11/dist-packages (from cffi>=1.12->cryptography>=1.3->requests-ntlm>=1.1.0->qiskit-ibm-provider==0.6.1) (2.22)\n",
            "Requirement already satisfied: setuptools in /usr/local/lib/python3.11/dist-packages (from pbr>=2.0.0->stevedore>=3.0.0->qiskit-terra==0.24.1->qiskit==0.43.1) (75.2.0)\n",
            "Installing collected packages: qiskit\n",
            "Successfully installed qiskit-0.43.1\n"
          ]
        }
      ],
      "source": [
        "# Uninstall the current Qiskit version\n",
        "!pip uninstall -y qiskit\n",
        "\n",
        "# Install Qiskit and IBM Provider with compatible versions\n",
        "!pip install qiskit==0.43.1 qiskit-ibm-provider==0.6.1\n"
      ]
    },
    {
      "cell_type": "code",
      "execution_count": null,
      "metadata": {
        "colab": {
          "background_save": true,
          "base_uri": "https://localhost:8080/"
        },
        "id": "Gi8QFLCxYWjU",
        "outputId": "822f549e-0f55-42f7-a4b5-f04723670dfc"
      },
      "outputs": [
        {
          "name": "stdout",
          "output_type": "stream",
          "text": [
            "Collecting pylatexenc\n",
            "  Downloading pylatexenc-2.10.tar.gz (162 kB)\n",
            "\u001b[?25l     \u001b[90m━━━━━━━━━━━━━━━━━━━━━━━━━━━━━━━━━━━━━━━━\u001b[0m \u001b[32m0.0/162.6 kB\u001b[0m \u001b[31m?\u001b[0m eta \u001b[36m-:--:--\u001b[0m\r\u001b[2K     \u001b[90m━━━━━━━━━━━━━━━━━━━━━━━━━━━━━━━━━━━━━━━\u001b[0m \u001b[32m162.6/162.6 kB\u001b[0m \u001b[31m5.4 MB/s\u001b[0m eta \u001b[36m0:00:00\u001b[0m\n",
            "\u001b[?25h  Preparing metadata (setup.py) ... \u001b[?25l\u001b[?25hdone\n",
            "Building wheels for collected packages: pylatexenc\n",
            "  Building wheel for pylatexenc (setup.py) ... \u001b[?25l\u001b[?25hdone\n",
            "  Created wheel for pylatexenc: filename=pylatexenc-2.10-py3-none-any.whl size=136817 sha256=0b24211b9ffd4539f703b1abed6e8f9abce993b3787238a71def1cb2dd7fff75\n",
            "  Stored in directory: /root/.cache/pip/wheels/b1/7a/33/9fdd892f784ed4afda62b685ae3703adf4c91aa0f524c28f03\n",
            "Successfully built pylatexenc\n",
            "Installing collected packages: pylatexenc\n",
            "Successfully installed pylatexenc-2.10\n"
          ]
        }
      ],
      "source": [
        "!pip install pylatexenc\n"
      ]
    },
    {
      "cell_type": "markdown",
      "source": [
        "**Basic 4-Qubit Quantum Peg Circuit**"
      ],
      "metadata": {
        "id": "wNPFL29dEhe7"
      }
    },
    {
      "cell_type": "code",
      "execution_count": null,
      "metadata": {
        "colab": {
          "background_save": true,
          "base_uri": "https://localhost:8080/",
          "height": 186
        },
        "id": "oEQwpp6bXPmF",
        "outputId": "6a7b12b1-472e-489d-c350-490d3ebc11fc"
      },
      "outputs": [
        {
          "data": {
            "text/html": [
              "<pre style=\"word-wrap: normal;white-space: pre;background: #fff0;line-height: 1.1;font-family: &quot;Courier New&quot;,Courier,monospace\">     ┌───┐   ┌───┐      ┌─┐      \n",
              "q_0: ┤ H ├─■─┤ X ├────■─┤M├──────\n",
              "     └───┘ │ └─┬─┘┌─┐ │ └╥┘      \n",
              "q_1: ──────X───┼──┤M├─┼──╫───────\n",
              "     ┌───┐ │   │  └╥┘ │  ║ ┌─┐   \n",
              "q_2: ┤ X ├─X───■───╫──X──╫─┤M├───\n",
              "     └───┘         ║  │  ║ └╥┘┌─┐\n",
              "q_3: ──────────────╫──X──╫──╫─┤M├\n",
              "                   ║     ║  ║ └╥┘\n",
              "c: 4/══════════════╩═════╩══╩══╩═\n",
              "                   1     0  2  3 </pre>"
            ],
            "text/plain": [
              "     ┌───┐   ┌───┐      ┌─┐      \n",
              "q_0: ┤ H ├─■─┤ X ├────■─┤M├──────\n",
              "     └───┘ │ └─┬─┘┌─┐ │ └╥┘      \n",
              "q_1: ──────X───┼──┤M├─┼──╫───────\n",
              "     ┌───┐ │   │  └╥┘ │  ║ ┌─┐   \n",
              "q_2: ┤ X ├─X───■───╫──X──╫─┤M├───\n",
              "     └───┘         ║  │  ║ └╥┘┌─┐\n",
              "q_3: ──────────────╫──X──╫──╫─┤M├\n",
              "                   ║     ║  ║ └╥┘\n",
              "c: 4/══════════════╩═════╩══╩══╩═\n",
              "                   1     0  2  3 "
            ]
          },
          "execution_count": 4,
          "metadata": {},
          "output_type": "execute_result"
        }
      ],
      "source": [
        "from qiskit import QuantumCircuit\n",
        "from qiskit_ibm_provider import IBMProvider\n",
        "from qiskit.visualization import plot_histogram\n",
        "import matplotlib.pyplot as plt\n",
        "\n",
        "# --- 1. Create a 4-qubit circuit ---\n",
        "qc = QuantumCircuit(4, 4)  # 4 qubits, 4 classical bits (one per qubit)\n",
        "\n",
        "# --- 2. Step 1: Prepare control qubit (q0) ---\n",
        "qc.h(0)  # Hadamard puts control qubit into equal superposition\n",
        "\n",
        "# --- 3. Step 2: Prepare the 'ball' in the middle (q2) ---\n",
        "qc.x(2)  # Ball starts in the middle peg position\n",
        "\n",
        "# --- 4. Step 3: First controlled-SWAP: q0 controls swap between q1 and q2 ---\n",
        "qc.cswap(0, 1, 2)\n",
        "\n",
        "# --- 5. Step 4: Controlled-NOT from q2 to q0 (as per paper) ---\n",
        "qc.cx(2, 0)\n",
        "\n",
        "# --- 6. Step 5: Second controlled-SWAP: q0 controls swap between q2 and q3 ---\n",
        "qc.cswap(0, 2, 3)\n",
        "\n",
        "# --- 7. Step 6: Measure all qubits ---\n",
        "qc.measure([0, 1, 2, 3], [0, 1, 2, 3])\n",
        "\n",
        "# --- Draw the circuit ---\n",
        "qc.draw(\"text\")\n"
      ]
    },
    {
      "cell_type": "markdown",
      "source": [
        "**Execute the single-peg circuit locally and plot measurement results**"
      ],
      "metadata": {
        "id": "RsrJWoptErer"
      }
    },
    {
      "cell_type": "code",
      "execution_count": null,
      "metadata": {
        "colab": {
          "base_uri": "https://localhost:8080/"
        },
        "id": "5eQio56paAnm",
        "outputId": "b72cb027-4746-470f-bc2e-f232e636d43d"
      },
      "outputs": [
        {
          "name": "stdout",
          "output_type": "stream",
          "text": [
            "{'1001': 1037, '0011': 1011}\n"
          ]
        }
      ],
      "source": [
        "!pip install qiskit --quiet\n",
        "\n",
        "from qiskit import QuantumCircuit, Aer, execute\n",
        "from qiskit.visualization import plot_histogram\n",
        "import matplotlib.pyplot as plt\n",
        "\n",
        "# --- Create 4-qubit single peg circuit ---\n",
        "qc = QuantumCircuit(4, 4)\n",
        "\n",
        "qc.h(0)      # control qubit in superposition\n",
        "qc.x(2)      # ball starting in middle\n",
        "qc.cswap(0, 1, 2)\n",
        "qc.cx(2, 0)\n",
        "qc.cswap(0, 2, 3)\n",
        "\n",
        "qc.measure([0, 1, 2, 3], [0, 1, 2, 3])\n",
        "\n",
        "# --- Run on local simulator ---\n",
        "backend = Aer.get_backend('qasm_simulator')\n",
        "job = execute(qc, backend, shots=2048)\n",
        "result = job.result()\n",
        "counts = result.get_counts()\n",
        "\n",
        "print(counts)\n",
        "plot_histogram(counts)\n",
        "plt.show()\n"
      ]
    },
    {
      "cell_type": "markdown",
      "source": [
        "**Define Multi-Level QGB Circuit Function**"
      ],
      "metadata": {
        "id": "EPCcScstExiK"
      }
    },
    {
      "cell_type": "code",
      "source": [
        "from qiskit import QuantumCircuit, Aer, execute\n",
        "import matplotlib.pyplot as plt\n",
        "from collections import Counter\n",
        "\n",
        "def qgb_4level():\n",
        "    qc = QuantumCircuit(10, 10)\n",
        "\n",
        "    qc.reset(0)\n",
        "    qc.x(5)\n",
        "    qc.h(0)\n",
        "    qc.cswap(0, 4, 5)\n",
        "    qc.cx(5, 0)\n",
        "    qc.cswap(0, 5, 6)\n",
        "\n",
        "    qc.reset(0)\n",
        "    qc.h(0)\n",
        "    qc.cswap(0, 3, 4)\n",
        "    qc.cx(4, 0)\n",
        "    qc.cswap(0, 4, 5)\n",
        "    qc.cx(5, 0)\n",
        "    qc.cswap(0, 6, 7)\n",
        "    qc.cx(6, 0)\n",
        "    qc.cswap(0, 5, 6)\n",
        "\n",
        "    qc.reset(0)\n",
        "    qc.h(0)\n",
        "    qc.cswap(0, 2, 3)\n",
        "    qc.cx(3, 0)\n",
        "    qc.cswap(0, 3, 4)\n",
        "    qc.cx(4, 0)\n",
        "    qc.cswap(0, 7, 8)\n",
        "    qc.cx(7, 0)\n",
        "    qc.cswap(0, 6, 7)\n",
        "    qc.cx(6, 0)\n",
        "    qc.cswap(0, 5, 6)\n",
        "    qc.cx(5, 0)\n",
        "    qc.cswap(0, 4, 5)\n",
        "\n",
        "    qc.reset(0)\n",
        "    qc.h(0)\n",
        "    qc.cswap(0, 1, 2)\n",
        "    qc.cx(2, 0)\n",
        "    qc.cswap(0, 2, 3)\n",
        "    qc.cx(3, 0)\n",
        "    qc.cswap(0, 3, 4)\n",
        "    qc.cx(4, 0)\n",
        "    qc.cswap(0, 4, 5)\n",
        "    qc.cx(5, 0)\n",
        "    qc.cswap(0, 5, 6)\n",
        "    qc.cx(6, 0)\n",
        "    qc.cswap(0, 6, 7)\n",
        "    qc.cx(7, 0)\n",
        "    qc.cswap(0, 7, 8)\n",
        "    qc.cx(8, 0)\n",
        "    qc.cswap(0, 8, 9)\n",
        "\n",
        "    for i in range(1, 10):\n",
        "        qc.measure(i, i)\n",
        "\n",
        "    return qc\n",
        "\n",
        "def post_process_qgb(counts):\n",
        "    \"\"\"Convert one-hot output to bin index\"\"\"\n",
        "    bin_counts = Counter()\n",
        "    for bitstring, count in counts.items():\n",
        "        bits = bitstring[::-1][1:10]  # ignore control qubit\n",
        "        if '1' in bits:\n",
        "            bin_index = bits.index('1')\n",
        "            bin_counts[bin_index] += count\n",
        "    return dict(bin_counts)\n",
        "\n",
        "def plot_distribution(bin_counts, title=\"QGB Output Distribution\"):\n",
        "    bins = sorted(bin_counts.keys())\n",
        "    values = [bin_counts[b] for b in bins]\n",
        "    plt.figure(figsize=(8, 5))\n",
        "    plt.bar(bins, values, width=0.6)\n",
        "    plt.xlabel(\"Final Bin Position\")\n",
        "    plt.ylabel(\"Counts\")\n",
        "    plt.title(title)\n",
        "    plt.grid(axis='y', alpha=0.3)\n",
        "    plt.show()\n",
        "\n",
        "# Run simulation\n",
        "qc = qgb_4level()\n",
        "backend = Aer.get_backend('qasm_simulator')\n",
        "result = execute(qc, backend, shots=20000).result()\n",
        "counts = result.get_counts()\n",
        "\n",
        "# Post-process and plot\n",
        "bin_counts = post_process_qgb(counts)\n",
        "print(\"Bin counts:\", bin_counts)\n",
        "plot_distribution(bin_counts, title=\"Unbiased 4-Level QGB Distribution\")\n"
      ],
      "metadata": {
        "colab": {
          "base_uri": "https://localhost:8080/",
          "height": 505
        },
        "id": "-nDAellk2Sk6",
        "outputId": "a82fab0f-3ff1-4567-9d11-b5288f5a1289"
      },
      "execution_count": 15,
      "outputs": [
        {
          "output_type": "stream",
          "name": "stdout",
          "text": [
            "Bin counts: {0: 1193, 6: 4931, 8: 1266, 4: 7559, 2: 5051}\n"
          ]
        },
        {
          "output_type": "display_data",
          "data": {
            "text/plain": [
              "<Figure size 800x500 with 1 Axes>"
            ],
            "image/png": "[encoded data removed]"
          },
          "metadata": {}
        }
      ]
    }
  ],
  "metadata": {
    "colab": {
      "provenance": []
    },
    "kernelspec": {
      "display_name": "Python 3",
      "name": "python3"
    },
    "language_info": {
      "name": "python"
    }
  },
  "nbformat": 4,
  "nbformat_minor": 0
}